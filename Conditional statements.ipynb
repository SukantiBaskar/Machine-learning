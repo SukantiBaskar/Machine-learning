{
 "cells": [
  {
   "cell_type": "code",
   "execution_count": 3,
   "id": "708e652f",
   "metadata": {},
   "outputs": [
    {
     "name": "stdout",
     "output_type": "stream",
     "text": [
      "enter the marks78\n",
      "you scored grade B+\n"
     ]
    }
   ],
   "source": [
    "marks=int(input(\"enter the marks\"))\n",
    "if (marks>85 and marks<=100):\n",
    "    print(\"congrats! you scored grade A\")\n",
    "elif (marks>60 and marks<=85):\n",
    "    print(\"you scored grade B+\")\n",
    "elif (marks>40 and marks<=60):\n",
    "    print(\"you scored grade B\")\n",
    "elif(marks>30 and marks<=40):\n",
    "    print(\"you scored grade C\")\n",
    "else:\n",
    "    print(\"you failed\") \n"
   ]
  },
  {
   "cell_type": "code",
   "execution_count": 5,
   "id": "0f835b51",
   "metadata": {},
   "outputs": [
    {
     "name": "stdout",
     "output_type": "stream",
     "text": [
      "the sum of squares is: 774\n"
     ]
    }
   ],
   "source": [
    "#find sum of squares of each element in a list using for loop\n",
    "numbers=[3,5,23,6,5,1,2,9,8]\n",
    "sum_=0\n",
    "for num in numbers:\n",
    "    sum_=sum_+num**2\n",
    "print(\"the sum of squares is:\",sum_)"
   ]
  },
  {
   "cell_type": "code",
   "execution_count": 6,
   "id": "2cce52b1",
   "metadata": {},
   "outputs": [
    {
     "name": "stdout",
     "output_type": "stream",
     "text": [
      "string iteration\n",
      "h\n",
      "e\n",
      "l\n",
      "l\n",
      "o\n"
     ]
    }
   ],
   "source": [
    "print(\"string iteration\")\n",
    "s=\"hello\"\n",
    "for i in s:\n",
    "    print(i)"
   ]
  },
  {
   "cell_type": "code",
   "execution_count": 9,
   "id": "12b23e0e",
   "metadata": {},
   "outputs": [
    {
     "name": "stdout",
     "output_type": "stream",
     "text": [
      "1 2 3 4 5 7 8 9 10 "
     ]
    }
   ],
   "source": [
    "#range with continue statement\n",
    "for i in range(1,11):\n",
    "    \n",
    "    if i==6:\n",
    "        continue\n",
    "    else:\n",
    "        print(i,end=\" \")"
   ]
  },
  {
   "cell_type": "code",
   "execution_count": 11,
   "id": "52a1789f",
   "metadata": {},
   "outputs": [
    {
     "name": "stdout",
     "output_type": "stream",
     "text": [
      "0\n",
      "1\n",
      "2\n"
     ]
    }
   ],
   "source": [
    "for i in range(10):\n",
    "    print(i)\n",
    "    if i==2:\n",
    "        break"
   ]
  },
  {
   "cell_type": "code",
   "execution_count": 14,
   "id": "cf665432",
   "metadata": {},
   "outputs": [
    {
     "name": "stdout",
     "output_type": "stream",
     "text": [
      "0\n",
      "1\n",
      "2\n",
      "3\n",
      "4\n",
      "5\n",
      "6\n",
      "7\n",
      "8\n"
     ]
    }
   ],
   "source": [
    "i=0\n",
    "while(i<9):\n",
    "    print(i)\n",
    "    i+=1"
   ]
  }
 ],
 "metadata": {
  "kernelspec": {
   "display_name": "Python 3 (ipykernel)",
   "language": "python",
   "name": "python3"
  },
  "language_info": {
   "codemirror_mode": {
    "name": "ipython",
    "version": 3
   },
   "file_extension": ".py",
   "mimetype": "text/x-python",
   "name": "python",
   "nbconvert_exporter": "python",
   "pygments_lexer": "ipython3",
   "version": "3.9.12"
  }
 },
 "nbformat": 4,
 "nbformat_minor": 5
}
