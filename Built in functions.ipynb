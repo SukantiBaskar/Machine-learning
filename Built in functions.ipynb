{
 "cells": [
  {
   "cell_type": "code",
   "execution_count": 1,
   "id": "8cc2ff18",
   "metadata": {},
   "outputs": [
    {
     "name": "stdout",
     "output_type": "stream",
     "text": [
      "141\n"
     ]
    }
   ],
   "source": [
    "#built in functions\n",
    "#abs function\n",
    "negative_number=-141\n",
    "print(abs(negative_number))"
   ]
  },
  {
   "cell_type": "code",
   "execution_count": 2,
   "id": "5c6f1d68",
   "metadata": {},
   "outputs": [
    {
     "name": "stdout",
     "output_type": "stream",
     "text": [
      "16\n"
     ]
    }
   ],
   "source": [
    "#pow function\n",
    "#3 to the power of 4\n",
    "x=pow(2,4)\n",
    "print(x)"
   ]
  },
  {
   "cell_type": "code",
   "execution_count": 3,
   "id": "fd54cd13",
   "metadata": {},
   "outputs": [
    {
     "name": "stdout",
     "output_type": "stream",
     "text": [
      "1\n"
     ]
    }
   ],
   "source": [
    "#3 to the power of 4, modulus 5\n",
    "x=pow(3,4,5)\n",
    "print(x)"
   ]
  },
  {
   "cell_type": "code",
   "execution_count": 4,
   "id": "46a4b65e",
   "metadata": {},
   "outputs": [
    {
     "name": "stdout",
     "output_type": "stream",
     "text": [
      "['__class__', '__delattr__', '__dict__', '__dir__', '__doc__', '__eq__', '__format__', '__ge__', '__getattribute__', '__gt__', '__hash__', '__init__', '__init_subclass__', '__le__', '__lt__', '__module__', '__ne__', '__new__', '__reduce__', '__reduce_ex__', '__repr__', '__setattr__', '__sizeof__', '__str__', '__subclasshook__', '__weakref__', 'age', 'education', 'name', 'place']\n"
     ]
    }
   ],
   "source": [
    "#dir function\n",
    "class person:\n",
    "    name=\"sukanti\"\n",
    "    age=20\n",
    "    place=\"india\"\n",
    "    education=\"pec\"\n",
    "print(dir(person))"
   ]
  },
  {
   "cell_type": "code",
   "execution_count": 5,
   "id": "ff80cdac",
   "metadata": {},
   "outputs": [
    {
     "name": "stdout",
     "output_type": "stream",
     "text": [
      "['f', 'e', 'd', 'c', 'b', 'a']\n"
     ]
    }
   ],
   "source": [
    "#sorted function\n",
    "tuple=(\"d\",\"b\",\"a\",\"c\",\"f\",\"e\")\n",
    "print(sorted(tuple,reverse=True))"
   ]
  },
  {
   "cell_type": "code",
   "execution_count": 6,
   "id": "99b14f20",
   "metadata": {},
   "outputs": [
    {
     "name": "stdout",
     "output_type": "stream",
     "text": [
      "sneha\n"
     ]
    }
   ],
   "source": [
    "#max function\n",
    "names=('merlin','sneha','jayapriya','kowsalya','hansika')\n",
    "print(max(names))"
   ]
  },
  {
   "cell_type": "code",
   "execution_count": 7,
   "id": "8670910d",
   "metadata": {},
   "outputs": [
    {
     "name": "stdout",
     "output_type": "stream",
     "text": [
      "8283\n"
     ]
    }
   ],
   "source": [
    "numbers=(769,8283,384,4,-32,15)\n",
    "print(max(numbers))"
   ]
  },
  {
   "cell_type": "code",
   "execution_count": 8,
   "id": "59bad1a9",
   "metadata": {},
   "outputs": [
    {
     "name": "stdout",
     "output_type": "stream",
     "text": [
      "32\n"
     ]
    }
   ],
   "source": [
    "#round function\n",
    "nearest_number=round(32.456)\n",
    "print(nearest_number)"
   ]
  },
  {
   "cell_type": "code",
   "execution_count": 9,
   "id": "22c4284b",
   "metadata": {},
   "outputs": [
    {
     "name": "stdout",
     "output_type": "stream",
     "text": [
      "-69\n"
     ]
    }
   ],
   "source": [
    "nearest_number=round(-68.55)\n",
    "print(nearest_number)"
   ]
  },
  {
   "cell_type": "code",
   "execution_count": 10,
   "id": "1381a6bc",
   "metadata": {},
   "outputs": [
    {
     "name": "stdout",
     "output_type": "stream",
     "text": [
      "4\n"
     ]
    }
   ],
   "source": [
    "#len function\n",
    "fruits=[\"apple\",\"banana\",\"cherry\",\"mango\"]\n",
    "print(len(fruits))"
   ]
  },
  {
   "cell_type": "code",
   "execution_count": 11,
   "id": "d12459e5",
   "metadata": {},
   "outputs": [
    {
     "name": "stdout",
     "output_type": "stream",
     "text": [
      "11\n"
     ]
    }
   ],
   "source": [
    "string=\"hello world\"\n",
    "print(len(string))"
   ]
  },
  {
   "cell_type": "code",
   "execution_count": 12,
   "id": "31b03fe2",
   "metadata": {},
   "outputs": [
    {
     "name": "stdout",
     "output_type": "stream",
     "text": [
      "24\n"
     ]
    }
   ],
   "source": [
    "#sum function\n",
    "a=(1,2,3,4,5)\n",
    "print(sum(a,9))"
   ]
  },
  {
   "cell_type": "code",
   "execution_count": 15,
   "id": "b9c09b93",
   "metadata": {},
   "outputs": [
    {
     "name": "stdout",
     "output_type": "stream",
     "text": [
      "Help on built-in function print in module builtins:\n",
      "\n",
      "print(...)\n",
      "    print(value, ..., sep=' ', end='\\n', file=sys.stdout, flush=False)\n",
      "    \n",
      "    Prints the values to a stream, or to sys.stdout by default.\n",
      "    Optional keyword arguments:\n",
      "    file:  a file-like object (stream); defaults to the current sys.stdout.\n",
      "    sep:   string inserted between values, default a space.\n",
      "    end:   string appended after the last value, default a newline.\n",
      "    flush: whether to forcibly flush the stream.\n",
      "\n"
     ]
    }
   ],
   "source": [
    "#help function\n",
    "help(print)"
   ]
  },
  {
   "cell_type": "code",
   "execution_count": 13,
   "id": "7f831e46",
   "metadata": {},
   "outputs": [
    {
     "name": "stdout",
     "output_type": "stream",
     "text": [
      "The square of the number is: 25\n"
     ]
    }
   ],
   "source": [
    "#user defined function\n",
    "def square(num):\n",
    "    return num**2\n",
    "object_=square(5)\n",
    "print(\"The square of the number is:\",object_)"
   ]
  },
  {
   "cell_type": "code",
   "execution_count": 14,
   "id": "ba1193f4",
   "metadata": {},
   "outputs": [
    {
     "name": "stdout",
     "output_type": "stream",
     "text": [
      "squares of the list is: [2025, 2704, 169]\n"
     ]
    }
   ],
   "source": [
    "def square(my_list):\n",
    "    squares=[]\n",
    "    for l in my_list:\n",
    "        squares.append(l**2)\n",
    "    return squares\n",
    "#calling the defined function\n",
    "list_=[45,52,13];\n",
    "result=square(list_)\n",
    "print(\"squares of the list is:\",result)"
   ]
  },
  {
   "cell_type": "code",
   "execution_count": 16,
   "id": "f6ec708d",
   "metadata": {},
   "outputs": [
    {
     "name": "stdout",
     "output_type": "stream",
     "text": [
      "value of the function is: 50\n",
      "value of the function is: 90\n"
     ]
    }
   ],
   "source": [
    "#lambda function\n",
    "lambda_=lambda argument1, argument2: argument1+argument2;\n",
    "print(\"value of the function is:\",lambda_(20,30))\n",
    "print(\"value of the function is:\",lambda_(40,50))"
   ]
  }
 ],
 "metadata": {
  "kernelspec": {
   "display_name": "Python 3 (ipykernel)",
   "language": "python",
   "name": "python3"
  },
  "language_info": {
   "codemirror_mode": {
    "name": "ipython",
    "version": 3
   },
   "file_extension": ".py",
   "mimetype": "text/x-python",
   "name": "python",
   "nbconvert_exporter": "python",
   "pygments_lexer": "ipython3",
   "version": "3.9.12"
  }
 },
 "nbformat": 4,
 "nbformat_minor": 5
}
